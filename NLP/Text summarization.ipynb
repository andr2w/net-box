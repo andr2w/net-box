{
 "cells": [
  {
   "cell_type": "code",
   "execution_count": 2,
   "id": "5183bc0a",
   "metadata": {},
   "outputs": [],
   "source": [
    "from datasets import load_dataset"
   ]
  },
  {
   "cell_type": "code",
   "execution_count": 3,
   "id": "53e0e494",
   "metadata": {},
   "outputs": [
    {
     "data": {
      "application/vnd.jupyter.widget-view+json": {
       "model_id": "c3466ac7d3e948eabef3dbeb50cf4177",
       "version_major": 2,
       "version_minor": 0
      },
      "text/plain": [
       "Downloading builder script:   0%|          | 0.00/3.66k [00:00<?, ?B/s]"
      ]
     },
     "metadata": {},
     "output_type": "display_data"
    },
    {
     "data": {
      "application/vnd.jupyter.widget-view+json": {
       "model_id": "dd6a5fbc763f483b820c5c7223ef5bf9",
       "version_major": 2,
       "version_minor": 0
      },
      "text/plain": [
       "Downloading metadata:   0%|          | 0.00/1.80k [00:00<?, ?B/s]"
      ]
     },
     "metadata": {},
     "output_type": "display_data"
    },
    {
     "data": {
      "application/vnd.jupyter.widget-view+json": {
       "model_id": "2f3fc1db52444303b9125f277e3ad905",
       "version_major": 2,
       "version_minor": 0
      },
      "text/plain": [
       "Downloading readme:   0%|          | 0.00/6.70k [00:00<?, ?B/s]"
      ]
     },
     "metadata": {},
     "output_type": "display_data"
    },
    {
     "name": "stdout",
     "output_type": "stream",
     "text": [
      "Downloading and preparing dataset billsum/default to /Users/andrew/.cache/huggingface/datasets/billsum/default/3.0.0/75cf1719d38d6553aa0e0714c393c74579b083ae6e164b2543684e3e92e0c4cc...\n"
     ]
    },
    {
     "data": {
      "application/vnd.jupyter.widget-view+json": {
       "model_id": "e4de1fd4f0534dd1bd4c617f677eed79",
       "version_major": 2,
       "version_minor": 0
      },
      "text/plain": [
       "Downloading data:   0%|          | 0.00/67.3M [00:00<?, ?B/s]"
      ]
     },
     "metadata": {},
     "output_type": "display_data"
    },
    {
     "data": {
      "application/vnd.jupyter.widget-view+json": {
       "model_id": "",
       "version_major": 2,
       "version_minor": 0
      },
      "text/plain": [
       "Generating train split:   0%|          | 0/18949 [00:00<?, ? examples/s]"
      ]
     },
     "metadata": {},
     "output_type": "display_data"
    },
    {
     "data": {
      "application/vnd.jupyter.widget-view+json": {
       "model_id": "",
       "version_major": 2,
       "version_minor": 0
      },
      "text/plain": [
       "Generating test split:   0%|          | 0/3269 [00:00<?, ? examples/s]"
      ]
     },
     "metadata": {},
     "output_type": "display_data"
    },
    {
     "data": {
      "application/vnd.jupyter.widget-view+json": {
       "model_id": "",
       "version_major": 2,
       "version_minor": 0
      },
      "text/plain": [
       "Generating ca_test split:   0%|          | 0/1237 [00:00<?, ? examples/s]"
      ]
     },
     "metadata": {},
     "output_type": "display_data"
    },
    {
     "name": "stdout",
     "output_type": "stream",
     "text": [
      "Dataset billsum downloaded and prepared to /Users/andrew/.cache/huggingface/datasets/billsum/default/3.0.0/75cf1719d38d6553aa0e0714c393c74579b083ae6e164b2543684e3e92e0c4cc. Subsequent calls will reuse this data.\n"
     ]
    }
   ],
   "source": [
    "billsum = load_dataset('billsum', split='ca_test')"
   ]
  },
  {
   "cell_type": "code",
   "execution_count": 4,
   "id": "18ab12cb",
   "metadata": {},
   "outputs": [],
   "source": [
    "billsum = billsum.train_test_split(test_size=0.2)"
   ]
  },
  {
   "cell_type": "code",
   "execution_count": 5,
   "id": "6f60295a",
   "metadata": {},
   "outputs": [
    {
     "data": {
      "text/plain": [
       "{'text': 'The people of the State of California do enact as follows:\\n\\n\\nSECTION 1.\\nSection 8024.8 is added to the Business and Professions Code, to read:\\n8024.8.\\n(a) On or before July 1, 2017, the board shall adopt regulations to establish minimum continuing education requirements for renewal of a certificate issued pursuant to this chapter. No earlier than six months after the effective date of the regulations, to renew his or her certificate, a certificate holder shall, in addition to the requirements of Section 8024, submit to the board, on a form prescribed by the board, that he or she has completed the minimum continuing education requirements.\\n(b) The board shall ensure that the continuing education required by this section is relevant to the practice of shorthand reporting.\\n(c) The board shall ensure that the continuing education required by this section includes a minimum of two hours of course credits in ethics and professional conduct of shorthand reporting.\\n(d) The board shall ensure that the continuing education required by this section is not less than 8 hours and not more than 12 hours of course credits every two years.\\n(e) The board shall also establish a procedure for approving providers of continuing education courses, and all providers of continuing education shall comply with procedures established by the board. The board may establish a fee for providers of continuing education courses pursuant to Section 8031. The board may revoke or deny the right of a provider to offer continuing education coursework pursuant to this section for failure to comply with the requirements of this section or any regulation adopted pursuant to this section.\\n(f) The board may establish exceptions to the continuing education requirements of this section for a certificate holder who cannot meet the continuing education requirements for reasons of health, military service, or undue hardship.\\n(g) The continuing education requirements of this section shall comply with the guidelines for mandatory continuing education established by the Department of Consumer Affairs pursuant to Section 166.\\n(h) The board shall, in collaboration with the Judicial Council, develop a list of courses that satisfy the requirements of both this section and Rule 10.474 of Title 10 of the California Rules of Court. The courses on this list may be used to satisfy the requirements of both this section and Rule 10.474.\\n(i) The board may adopt regulations as necessary to implement this section.\\nSEC. 2.\\nSection 8031 of the Business and Professions Code is amended to read:\\n8031.\\nThe amount of the fees required by this chapter is that fixed by the board in accordance with the following schedule:\\n(a) The fee for filing an application for each examination shall be no more than forty dollars ($40).\\n(b) The fee for examination and reexamination for the written or practical part of the examination shall be in an amount fixed by the board, which shall be equal to the actual cost of preparing, administering, grading, and analyzing the examination, but shall not exceed seventy-five dollars ($75) for each separate part, for each administration.\\n(c) The initial certificate fee is an amount equal to the renewal fee in effect on the last regular renewal date before the date on which the certificate is issued, except that, if the certificate will expire less than 180 days after its issuance, then the fee is 50 percent of the renewal fee in effect on the last regular renewal date before the date on which the certificate is issued, or fifty dollars ($50), whichever is greater. The board may, by appropriate regulation, provide for the waiver or refund of the initial certificate fee where the certificate is issued less than 45 days before the date on which it will expire.\\n(d) By a resolution adopted by the board, a renewal fee may be established in such amounts and at such times as the board may deem appropriate to meet its operational expenses and funding responsibilities as set forth in this chapter. The renewal fee shall not be more than one hundred twenty-five dollars ($125) nor less than ten dollars ($10) annually, with the following exception:\\nAny person who is employed full time by the State of California as a hearing reporter and who does not otherwise render shorthand reporting services for a fee shall be exempt from licensure while in state employment and shall not be subject to the renewal fee provisions of this subdivision until 30 days after leaving state employment. The renewal fee shall, in addition to the amount fixed by this subdivision, include any unpaid fees required by this section plus any delinquency fee.\\n(e) The duplicate certificate fee shall be no greater than ten dollars ($10).\\n(f) The penalty for failure to notify the board of a change of name or address as required by Section 8024.6 shall be no greater than fifty dollars ($50).\\n(g) The fee for approval of a continuing education provider shall be fixed by the board through regulation in an amount to cover the reasonable regulatory cost to the board of approving those continuing education providers, but shall be no greater than forty dollars ($40).',\n",
       " 'summary': 'Existing law provides for the certification and regulation of shorthand reporters by the Court Reporters Board of California in the Department of Consumer Affairs, and provides for the regulation of shorthand reporting schools by the board. Existing law provides for the renewal of a shorthand reporter’s certificate if specified requirements are met. Existing law sets forth specified fees for the examination for, and the issuance and renewal of, a shorthand reporter’s certificate.\\nThis bill would require the board, on or before July 1, 2017, to adopt regulations to establish, for renewal of a shorthand reporter’s certificate, minimum approved continuing education requirements, with certain exceptions, and would require the board to establish a procedure for approving providers of those continuing education courses, as specified. The bill would also require the board to collaborate with the Judicial Council to develop a list of courses that satisfy the continuing education requirements of both these provisions and a specified rule, applicable to trial court personnel, of the California Rules of Court. The bill would also authorize the board to, by regulation, establish a fee for approval of those continuing education providers, not to exceed the reasonable regulatory costs, if any, to the board of approving those providers.',\n",
       " 'title': 'An act to amend Section 8031 of, and to add Section 8024.8 to, the Business and Professions Code, relating to shorthand reporters.'}"
      ]
     },
     "execution_count": 5,
     "metadata": {},
     "output_type": "execute_result"
    }
   ],
   "source": [
    "billsum[\"train\"][0]"
   ]
  },
  {
   "cell_type": "markdown",
   "id": "bca796ae",
   "metadata": {},
   "source": [
    "There are two fields that I want to use:\n",
    "- Text \n",
    "- Summary"
   ]
  },
  {
   "cell_type": "code",
   "execution_count": 6,
   "id": "6f6aa303",
   "metadata": {},
   "outputs": [],
   "source": [
    "from transformers import BertTokenizer \n",
    "tokenizer = BertTokenizer.from_pretrained('bert-base-uncased')"
   ]
  },
  {
   "cell_type": "code",
   "execution_count": 7,
   "id": "729c8f3f",
   "metadata": {},
   "outputs": [],
   "source": [
    "def preprocess_function(examples):\n",
    "    inputs = ['summarize' + doc for doc in examples[\"text\"]]\n",
    "    model_inputs = tokenizer(inputs, max_length=1024, truncation=True)\n",
    "    \n",
    "    labels = tokenizer(text_target=examples['summary'], max_length=128, truncation=True)\n",
    "    model_inputs['labels'] = labels['input_ids']\n",
    "    return model_inputs"
   ]
  },
  {
   "cell_type": "code",
   "execution_count": 8,
   "id": "8d77000d",
   "metadata": {},
   "outputs": [
    {
     "data": {
      "application/vnd.jupyter.widget-view+json": {
       "model_id": "3f53e64b875544e187fa58c66536d3ff",
       "version_major": 2,
       "version_minor": 0
      },
      "text/plain": [
       "  0%|          | 0/1 [00:00<?, ?ba/s]"
      ]
     },
     "metadata": {},
     "output_type": "display_data"
    },
    {
     "data": {
      "application/vnd.jupyter.widget-view+json": {
       "model_id": "61393b35c9254af2b87b7c5f36584461",
       "version_major": 2,
       "version_minor": 0
      },
      "text/plain": [
       "  0%|          | 0/1 [00:00<?, ?ba/s]"
      ]
     },
     "metadata": {},
     "output_type": "display_data"
    }
   ],
   "source": [
    "tokenized_billsum = billsum.map(preprocess_function, batched=True)"
   ]
  },
  {
   "cell_type": "code",
   "execution_count": 9,
   "id": "961cbb7c",
   "metadata": {},
   "outputs": [
    {
     "ename": "NameError",
     "evalue": "name 'model' is not defined",
     "output_type": "error",
     "traceback": [
      "\u001b[0;31m---------------------------------------------------------------------------\u001b[0m",
      "\u001b[0;31mNameError\u001b[0m                                 Traceback (most recent call last)",
      "\u001b[0;32m/var/folders/7v/lg5p6vfj4qqb3w8c_v0xx5xc0000gn/T/ipykernel_21095/1136086669.py\u001b[0m in \u001b[0;36m<module>\u001b[0;34m\u001b[0m\n\u001b[1;32m      1\u001b[0m \u001b[0;32mfrom\u001b[0m \u001b[0mtransformers\u001b[0m \u001b[0;32mimport\u001b[0m \u001b[0mDataCollatorForSeq2Seq\u001b[0m\u001b[0;34m\u001b[0m\u001b[0;34m\u001b[0m\u001b[0m\n\u001b[1;32m      2\u001b[0m \u001b[0;34m\u001b[0m\u001b[0m\n\u001b[0;32m----> 3\u001b[0;31m \u001b[0mdata_collator\u001b[0m \u001b[0;34m=\u001b[0m \u001b[0mDataCollatorForSeq2Seq\u001b[0m\u001b[0;34m(\u001b[0m\u001b[0mtokenizer\u001b[0m\u001b[0;34m=\u001b[0m\u001b[0mtokenizer\u001b[0m\u001b[0;34m,\u001b[0m \u001b[0mmodel\u001b[0m\u001b[0;34m=\u001b[0m\u001b[0mmodel\u001b[0m\u001b[0;34m)\u001b[0m\u001b[0;34m\u001b[0m\u001b[0;34m\u001b[0m\u001b[0m\n\u001b[0m",
      "\u001b[0;31mNameError\u001b[0m: name 'model' is not defined"
     ]
    }
   ],
   "source": [
    "from transformers import DataCollatorForSeq2Seq\n",
    "\n",
    "data_collator = DataCollatorForSeq2Seq(tokenizer=tokenizer, model=model)"
   ]
  },
  {
   "cell_type": "code",
   "execution_count": null,
   "id": "91939d3f",
   "metadata": {},
   "outputs": [],
   "source": []
  }
 ],
 "metadata": {
  "kernelspec": {
   "display_name": "Python 3 (ipykernel)",
   "language": "python",
   "name": "python3"
  },
  "language_info": {
   "codemirror_mode": {
    "name": "ipython",
    "version": 3
   },
   "file_extension": ".py",
   "mimetype": "text/x-python",
   "name": "python",
   "nbconvert_exporter": "python",
   "pygments_lexer": "ipython3",
   "version": "3.9.13"
  }
 },
 "nbformat": 4,
 "nbformat_minor": 5
}
