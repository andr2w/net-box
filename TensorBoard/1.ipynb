{
 "cells": [
  {
   "cell_type": "code",
   "execution_count": 3,
   "id": "4feb3940",
   "metadata": {},
   "outputs": [],
   "source": [
    "import torch\n",
    "import torchvision\n",
    "import torch.nn as nn  # All neural network modules, nn.Linear, nn.Conv2d, BatchNorm, Loss functions\n",
    "import torch.optim as optim  # For all Optimization algorithms, SGD, Adam, etc.\n",
    "import torch.nn.functional as F  # All functions that don't have any parameters\n",
    "import torchvision.datasets as datasets  # Has standard datasets we can import in a nice way\n",
    "import torchvision.transforms as transforms  # Transformations we can perform on our dataset\n",
    "from torch.utils.data import (\n",
    "    DataLoader,\n",
    ")  # Gives easier dataset managment and creates mini batches\n",
    "from torch.utils.tensorboard import SummaryWriter  # to print to tensorboarder"
   ]
  },
  {
   "cell_type": "code",
   "execution_count": 4,
   "id": "7e2a19f0",
   "metadata": {},
   "outputs": [],
   "source": [
    "# Simple CNN\n",
    "class CNN(nn.Module):\n",
    "    def __init__(self, in_channels=1, num_classes=10):\n",
    "        super(CNN, self).__init__()\n",
    "        self.conv1 = nn.Conv2d(\n",
    "            in_channels=in_channels, out_channels=8, kernel_size=3, stride=1, padding=1\n",
    "        )\n",
    "        self.pool = nn.MaxPool2d(kernel_size=(2, 2), stride=(2, 2))\n",
    "        self.conv2 = nn.Conv2d(\n",
    "            in_channels=8, out_channels=16, kernel_size=3, stride=1, padding=1\n",
    "        )\n",
    "        self.fc1 = nn.Linear(16 * 7 * 7, num_classes)\n",
    "\n",
    "    def forward(self, x):\n",
    "        x = F.relu(self.conv1(x))\n",
    "        x = self.pool(x)\n",
    "        x = F.relu(self.conv2(x))\n",
    "        x = self.pool(x)\n",
    "        x = x.reshape(x.shape[0], -1)\n",
    "        x = self.fc1(x)\n",
    "        return x"
   ]
  },
  {
   "cell_type": "code",
   "execution_count": 8,
   "id": "7bd08bf4",
   "metadata": {},
   "outputs": [],
   "source": [
    "# Set device\n",
    "device = torch.device(\"cuda\" if torch.cuda.is_available() else \"cpu\")\n",
    "\n",
    "# Hyperparameters\n",
    "in_channels = 1\n",
    "num_classes = 10\n",
    "num_epochs = 3\n",
    "lr = 0.001\n",
    "batch_size = 64\n",
    "num_epochs = 5\n",
    "\n",
    "# Load Data\n",
    "train_dataset = datasets.MNIST(\n",
    "    root=\"dataset/\", train=True, transform=transforms.ToTensor(), download=True\n",
    ")"
   ]
  },
  {
   "cell_type": "code",
   "execution_count": 9,
   "id": "164a78dd",
   "metadata": {},
   "outputs": [],
   "source": [
    "train_loader = DataLoader(dataset=train_dataset, batch_size=batch_size, shuffle=True)"
   ]
  },
  {
   "cell_type": "code",
   "execution_count": 11,
   "id": "ad6d6492",
   "metadata": {},
   "outputs": [
    {
     "data": {
      "text/plain": [
       "CNN(\n",
       "  (conv1): Conv2d(1, 8, kernel_size=(3, 3), stride=(1, 1), padding=(1, 1))\n",
       "  (pool): MaxPool2d(kernel_size=(2, 2), stride=(2, 2), padding=0, dilation=1, ceil_mode=False)\n",
       "  (conv2): Conv2d(8, 16, kernel_size=(3, 3), stride=(1, 1), padding=(1, 1))\n",
       "  (fc1): Linear(in_features=784, out_features=10, bias=True)\n",
       ")"
      ]
     },
     "execution_count": 11,
     "metadata": {},
     "output_type": "execute_result"
    }
   ],
   "source": [
    "model = CNN(in_channels=in_channels, num_classes=num_classes)\n",
    "model.to(device)"
   ]
  },
  {
   "cell_type": "code",
   "execution_count": 13,
   "id": "644b7a8c",
   "metadata": {},
   "outputs": [],
   "source": [
    "loss_function = nn.CrossEntropyLoss()\n",
    "optimizer = optim.Adam(model.parameters(), lr=lr, weight_decay=0.0)"
   ]
  },
  {
   "cell_type": "markdown",
   "id": "dee3f342",
   "metadata": {},
   "source": [
    "**Tensorboard**\n",
    "Write into the current fold's `runs` fold"
   ]
  },
  {
   "cell_type": "code",
   "execution_count": 14,
   "id": "b5c21c62",
   "metadata": {},
   "outputs": [],
   "source": [
    "writer = SummaryWriter(f'runs/MNIST/tryingout_tensorboard')"
   ]
  },
  {
   "cell_type": "code",
   "execution_count": 17,
   "id": "04df4ebd",
   "metadata": {},
   "outputs": [
    {
     "name": "stdout",
     "output_type": "stream",
     "text": [
      "Mean loss this epoch was 0.3211231522424929\n",
      "Mean loss this epoch was 0.09592510640386866\n",
      "Mean loss this epoch was 0.07339006033850147\n",
      "Mean loss this epoch was 0.06116277782538378\n",
      "Mean loss this epoch was 0.052735856733843886\n"
     ]
    }
   ],
   "source": [
    "# adding one batch, adding one more step\n",
    "step = 0\n",
    "for epoch in range(num_epochs):\n",
    "    losses = []\n",
    "    accuracies = []\n",
    "    \n",
    "    for batch_idx, (xs, ys) in enumerate(train_loader):\n",
    "        xs = xs.to(device=device)\n",
    "        ys = ys.to(device=device)\n",
    "        \n",
    "        # forward\n",
    "        hat_ys = model(xs)\n",
    "        loss = loss_function(hat_ys, ys)\n",
    "        losses.append(loss.item())\n",
    "        \n",
    "        # backward\n",
    "        optimizer.zero_grad()\n",
    "        loss.backward()\n",
    "        optimizer.step()\n",
    "        \n",
    "        # Calculate 'runing' training accuracy\n",
    "        _, predictions = hat_ys.max(1)\n",
    "        num_correct = (predictions == ys).sum()\n",
    "        running_train_acc = float(num_correct)/float(xs.shape[0])\n",
    "        \n",
    "        '''\n",
    "        Adding the end of every batch\n",
    "        '''\n",
    "        writer.add_scalar('Training Loss', loss, global_step=step)\n",
    "        writer.add_scalar('Training Accuracy', running_train_acc, global_step=step)\n",
    "        step += 1\n",
    "        \n",
    "    print(f'Mean loss this epoch was {sum(losses)/len(losses)}')"
   ]
  },
  {
   "cell_type": "markdown",
   "id": "7466eb0c",
   "metadata": {},
   "source": [
    "**Notes**\n",
    "\n",
    "Open terms\n",
    "\n",
    "- `Tensorboard --logdir runs` runs is the stored"
   ]
  }
 ],
 "metadata": {
  "kernelspec": {
   "display_name": "Python 3 (ipykernel)",
   "language": "python",
   "name": "python3"
  },
  "language_info": {
   "codemirror_mode": {
    "name": "ipython",
    "version": 3
   },
   "file_extension": ".py",
   "mimetype": "text/x-python",
   "name": "python",
   "nbconvert_exporter": "python",
   "pygments_lexer": "ipython3",
   "version": "3.9.13"
  }
 },
 "nbformat": 4,
 "nbformat_minor": 5
}
