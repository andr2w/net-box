{
 "cells": [
  {
   "cell_type": "code",
   "execution_count": 1,
   "id": "6c0ce57d",
   "metadata": {},
   "outputs": [
    {
     "data": {
      "text/plain": [
       "'0.9.0'"
      ]
     },
     "execution_count": 1,
     "metadata": {},
     "output_type": "execute_result"
    }
   ],
   "source": [
    "import torchtext\n",
    "torchtext.__version__"
   ]
  },
  {
   "cell_type": "markdown",
   "id": "94b3899f",
   "metadata": {},
   "source": [
    "## Steps\n",
    "\n",
    "1. Specify how preprocessing should be done -> `Fields`\n",
    "2. Use Dataset to load the data -> `TabularDataset` (CSV/JSON)\n",
    "3. Construct an iterator to do batching & padding -> BucketIterator"
   ]
  },
  {
   "cell_type": "markdown",
   "id": "fb35d74e",
   "metadata": {},
   "source": [
    "### Step 1"
   ]
  },
  {
   "cell_type": "code",
   "execution_count": 2,
   "id": "eec8dc86",
   "metadata": {},
   "outputs": [],
   "source": [
    "import pandas as pd\n",
    "train = pd.read_csv('./data/train.csv')\n",
    "test = pd.read_csv('./data/test.csv')"
   ]
  },
  {
   "cell_type": "code",
   "execution_count": 3,
   "id": "9a1d871b",
   "metadata": {},
   "outputs": [
    {
     "data": {
      "text/html": [
       "<div>\n",
       "<style scoped>\n",
       "    .dataframe tbody tr th:only-of-type {\n",
       "        vertical-align: middle;\n",
       "    }\n",
       "\n",
       "    .dataframe tbody tr th {\n",
       "        vertical-align: top;\n",
       "    }\n",
       "\n",
       "    .dataframe thead th {\n",
       "        text-align: right;\n",
       "    }\n",
       "</style>\n",
       "<table border=\"1\" class=\"dataframe\">\n",
       "  <thead>\n",
       "    <tr style=\"text-align: right;\">\n",
       "      <th></th>\n",
       "      <th>name</th>\n",
       "      <th>quote</th>\n",
       "      <th>score</th>\n",
       "    </tr>\n",
       "  </thead>\n",
       "  <tbody>\n",
       "    <tr>\n",
       "      <th>0</th>\n",
       "      <td>Jocko</td>\n",
       "      <td>You must own everything in your world. There i...</td>\n",
       "      <td>1</td>\n",
       "    </tr>\n",
       "    <tr>\n",
       "      <th>1</th>\n",
       "      <td>Bruce Lee</td>\n",
       "      <td>Do not pray for an easy life, pray for the str...</td>\n",
       "      <td>1</td>\n",
       "    </tr>\n",
       "    <tr>\n",
       "      <th>2</th>\n",
       "      <td>Potato guy</td>\n",
       "      <td>Stand tall, and rice like a potato!</td>\n",
       "      <td>0</td>\n",
       "    </tr>\n",
       "  </tbody>\n",
       "</table>\n",
       "</div>"
      ],
      "text/plain": [
       "         name                                              quote  score\n",
       "0       Jocko  You must own everything in your world. There i...      1\n",
       "1   Bruce Lee  Do not pray for an easy life, pray for the str...      1\n",
       "2  Potato guy                Stand tall, and rice like a potato!      0"
      ]
     },
     "execution_count": 3,
     "metadata": {},
     "output_type": "execute_result"
    }
   ],
   "source": [
    "train"
   ]
  },
  {
   "cell_type": "code",
   "execution_count": 4,
   "id": "1410ab97",
   "metadata": {},
   "outputs": [],
   "source": [
    "from torchtext.legacy.data import Field, TabularDataset, BucketIterator\n",
    "import spacy"
   ]
  },
  {
   "cell_type": "code",
   "execution_count": 6,
   "id": "70dfd0d6",
   "metadata": {},
   "outputs": [],
   "source": [
    "spacy_en = spacy.load('en_core_web_sm')"
   ]
  },
  {
   "cell_type": "code",
   "execution_count": 7,
   "id": "89cc5d45",
   "metadata": {},
   "outputs": [],
   "source": [
    "# a better tokenizer\n",
    "def tokenize(text):\n",
    "    return [tok.text for tok in spacy_en.tokenizer(text)]"
   ]
  },
  {
   "cell_type": "code",
   "execution_count": 8,
   "id": "6c5668a5",
   "metadata": {},
   "outputs": [],
   "source": [
    "# How the data should be processed\n",
    "quote = Field(sequential=True, use_vocab=True, tokenize=tokenize, lower=True)"
   ]
  },
  {
   "cell_type": "code",
   "execution_count": 9,
   "id": "0646ff54",
   "metadata": {},
   "outputs": [],
   "source": [
    "score = Field(sequential=False, use_vocab=False)"
   ]
  },
  {
   "cell_type": "code",
   "execution_count": 10,
   "id": "5f35e372",
   "metadata": {},
   "outputs": [],
   "source": [
    "'''\n",
    "which column should we use in the dataset\n",
    "Later on, when we created the batchs, how we get the quote is batch.q, score batch.s\n",
    "'''\n",
    "\n",
    "fields = {'quote': ('q', quote), 'score': ('s', score)}"
   ]
  },
  {
   "cell_type": "code",
   "execution_count": 11,
   "id": "60ee13d6",
   "metadata": {},
   "outputs": [],
   "source": [
    "train_data, test_data = TabularDataset.splits(path='./data',\n",
    "                                              train='train.csv',\n",
    "                                              test='test.csv',\n",
    "                                              format='csv',\n",
    "                                              fields=fields)"
   ]
  },
  {
   "cell_type": "code",
   "execution_count": 12,
   "id": "6c379b28",
   "metadata": {},
   "outputs": [
    {
     "data": {
      "text/plain": [
       "dict_keys(['q', 's'])"
      ]
     },
     "execution_count": 12,
     "metadata": {},
     "output_type": "execute_result"
    }
   ],
   "source": [
    "train_data[0].__dict__.keys()"
   ]
  },
  {
   "cell_type": "code",
   "execution_count": 13,
   "id": "a923ae24",
   "metadata": {},
   "outputs": [
    {
     "data": {
      "text/plain": [
       "dict_values([['you', 'must', 'own', 'everything', 'in', 'your', 'world', '.', 'there', 'is', 'no', 'one', 'else', 'to', 'blame', '.'], '1'])"
      ]
     },
     "execution_count": 13,
     "metadata": {},
     "output_type": "execute_result"
    }
   ],
   "source": [
    "train_data[0].__dict__.values()"
   ]
  },
  {
   "cell_type": "markdown",
   "id": "d92dce50",
   "metadata": {},
   "source": [
    "### Step 2\n",
    "\n",
    "Build a vocab"
   ]
  },
  {
   "cell_type": "code",
   "execution_count": 19,
   "id": "6e5b3c5b",
   "metadata": {},
   "outputs": [
    {
     "name": "stderr",
     "output_type": "stream",
     "text": [
      ".vector_cache/glove.6B.zip: 862MB [1:58:52, 121kB/s]                            \n",
      "100%|███████████████████████████████▉| 399999/400000 [00:06<00:00, 61165.75it/s]\n"
     ]
    }
   ],
   "source": [
    "quote.build_vocab(train_data,\n",
    "                  max_size=1000,\n",
    "                  min_freq=1,\n",
    "                  vectors='glove.6B.50d') # 1 GB"
   ]
  },
  {
   "cell_type": "markdown",
   "id": "877ba7bc",
   "metadata": {},
   "source": [
    "### Step 3"
   ]
  },
  {
   "cell_type": "code",
   "execution_count": 20,
   "id": "6eeb48e4",
   "metadata": {},
   "outputs": [],
   "source": [
    "train_iterator, test_iterator = BucketIterator.splits((train_data, test_data), batch_size=2, device='cpu')"
   ]
  },
  {
   "cell_type": "code",
   "execution_count": 21,
   "id": "6a6b22dc",
   "metadata": {},
   "outputs": [
    {
     "name": "stdout",
     "output_type": "stream",
     "text": [
      "tensor([[29],\n",
      "        [31],\n",
      "        [ 3],\n",
      "        [11],\n",
      "        [28],\n",
      "        [22],\n",
      "        [ 4],\n",
      "        [27],\n",
      "        [ 9]])\n",
      "tensor([0])\n",
      "tensor([[35, 14],\n",
      "        [23, 25],\n",
      "        [26,  7],\n",
      "        [18,  5],\n",
      "        [19, 10],\n",
      "        [36, 15],\n",
      "        [34, 21],\n",
      "        [ 2,  3],\n",
      "        [33,  7],\n",
      "        [20,  5],\n",
      "        [24, 32],\n",
      "        [ 6, 30],\n",
      "        [16,  8],\n",
      "        [ 8, 17],\n",
      "        [12,  4],\n",
      "        [ 2, 13],\n",
      "        [ 1,  6],\n",
      "        [ 1,  2]])\n",
      "tensor([1, 1])\n"
     ]
    }
   ],
   "source": [
    "for batch in train_iterator: \n",
    "    print(batch.q)\n",
    "    print(batch.s)"
   ]
  },
  {
   "cell_type": "code",
   "execution_count": null,
   "id": "b9cf2655",
   "metadata": {},
   "outputs": [],
   "source": []
  }
 ],
 "metadata": {
  "kernelspec": {
   "display_name": "Python 3 (ipykernel)",
   "language": "python",
   "name": "python3"
  },
  "language_info": {
   "codemirror_mode": {
    "name": "ipython",
    "version": 3
   },
   "file_extension": ".py",
   "mimetype": "text/x-python",
   "name": "python",
   "nbconvert_exporter": "python",
   "pygments_lexer": "ipython3",
   "version": "3.9.13"
  }
 },
 "nbformat": 4,
 "nbformat_minor": 5
}
